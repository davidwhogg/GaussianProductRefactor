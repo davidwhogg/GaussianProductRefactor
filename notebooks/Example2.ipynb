{
 "cells": [
  {
   "cell_type": "code",
   "execution_count": null,
   "metadata": {},
   "outputs": [],
   "source": [
    "import matplotlib as mpl\n",
    "import matplotlib.pyplot as plt\n",
    "%matplotlib inline\n",
    "import numpy as np\n",
    "from scipy.stats import norm\n",
    "from astroML.utils import log_multivariate_gaussian\n",
    "\n",
    "rnd = np.random.RandomState(seed=42)  # what else?"
   ]
  },
  {
   "cell_type": "markdown",
   "metadata": {},
   "source": [
    "$$\n",
    "y_{\\rm true} = a\\,x + b + \\frac{c}{\\sqrt{2 \\pi} d} \\, \\exp{\\left(-\\frac{(x-x_0)^2}{2 \\, d^2}\\right)}\n",
    "$$"
   ]
  },
  {
   "cell_type": "code",
   "execution_count": null,
   "metadata": {},
   "outputs": [],
   "source": [
    "def eval_model(a, b, c, d, x0, x):\n",
    "    return a * x + b + c * norm.pdf(x, loc=x0, scale=d)"
   ]
  },
  {
   "cell_type": "code",
   "execution_count": null,
   "metadata": {},
   "outputs": [],
   "source": [
    "N = 16\n",
    "\n",
    "x0 = rnd.uniform(-1, 1)\n",
    "x = np.linspace(-5, 5, N)\n",
    "true_y = eval_model(a=rnd.uniform(-0.1, 0.1),\n",
    "                    b=rnd.uniform(1, 10),\n",
    "                    c=rnd.uniform(2, 3),\n",
    "                    d=rnd.uniform(0.5, 1.),\n",
    "                    x0=x0,\n",
    "                    x=x)\n",
    "\n",
    "y_err = rnd.uniform(0.1, 0.2, size=N)\n",
    "y = rnd.normal(true_y, y_err)"
   ]
  },
  {
   "cell_type": "code",
   "execution_count": null,
   "metadata": {},
   "outputs": [],
   "source": [
    "plt.errorbar(x, y, y_err, \n",
    "             marker='o', ls='none')"
   ]
  },
  {
   "cell_type": "code",
   "execution_count": null,
   "metadata": {},
   "outputs": [],
   "source": [
    "def design_matrix(x0, d, x):\n",
    "    M = np.stack((x, \n",
    "                  np.ones_like(x), \n",
    "                  norm.pdf(x, loc=x0, scale=d)), \n",
    "                 axis=1)\n",
    "    return M"
   ]
  },
  {
   "cell_type": "code",
   "execution_count": null,
   "metadata": {},
   "outputs": [],
   "source": [
    "C = np.diag(y_err ** 2)\n",
    "mu = np.array([0, 1, 1])\n",
    "L = np.diag([0.1, 10, 3]) ** 2"
   ]
  },
  {
   "cell_type": "code",
   "execution_count": null,
   "metadata": {},
   "outputs": [],
   "source": [
    "def get_aAbB(y, C, M, mu, L):\n",
    "    Linv = np.linalg.inv(L)\n",
    "    Cinv = np.linalg.inv(C)\n",
    "\n",
    "    b = M @ mu\n",
    "    B = C + M @ L @ M.T\n",
    "\n",
    "    Ainv = Linv + M.T @ Cinv @ M\n",
    "    A = np.linalg.inv(Ainv)\n",
    "    Binv = Cinv - Cinv @ M @ A @ M.T @ Cinv\n",
    "    \n",
    "    res = dict()\n",
    "    res['lnlike'] = log_multivariate_gaussian(y, b, B, Vinv=Binv)\n",
    "    res['a'] = np.linalg.solve(Ainv, Linv @ mu + M.T @ Cinv @ y)\n",
    "    res['A'] = A\n",
    "    res['b'] = b\n",
    "    res['B'] = B\n",
    "\n",
    "    return res"
   ]
  },
  {
   "cell_type": "code",
   "execution_count": null,
   "metadata": {},
   "outputs": [],
   "source": [
    "def ln_likelihood(p, x, y, C, mu, L):\n",
    "    d, x0 = p\n",
    "    M = design_matrix(x0, d, x)\n",
    "    res = get_aAbB(y, C, M, mu, L)\n",
    "    return res['lnlike']"
   ]
  },
  {
   "cell_type": "code",
   "execution_count": null,
   "metadata": {},
   "outputs": [],
   "source": [
    "def make_full_sample(p, x, y, C, mu, L):\n",
    "    d, x0 = p\n",
    "    M = design_matrix(x0, d, x)\n",
    "    res = get_aAbB(y, C, M, mu, L)\n",
    "    linear_sample = np.random.multivariate_normal(res['a'], res['A'])\n",
    "    return np.concatenate((linear_sample, p))"
   ]
  },
  {
   "cell_type": "code",
   "execution_count": null,
   "metadata": {},
   "outputs": [],
   "source": [
    "n_prior_samples = 100_000\n",
    "prior_samples = np.stack((rnd.lognormal(0, 1.5, size=n_prior_samples),\n",
    "                          rnd.uniform(-1, 1, size=n_prior_samples)),\n",
    "                         axis=1)"
   ]
  },
  {
   "cell_type": "code",
   "execution_count": null,
   "metadata": {},
   "outputs": [],
   "source": [
    "marg_lnlikes = np.array([ln_likelihood(p, x, y, C, mu, L) \n",
    "                         for p in prior_samples])"
   ]
  },
  {
   "cell_type": "code",
   "execution_count": null,
   "metadata": {},
   "outputs": [],
   "source": [
    "mask = np.exp(marg_lnlikes - marg_lnlikes.max()) > rnd.uniform(size=n_prior_samples)\n",
    "mask.sum()"
   ]
  },
  {
   "cell_type": "code",
   "execution_count": null,
   "metadata": {},
   "outputs": [],
   "source": [
    "plt.errorbar(x, y, y_err, \n",
    "             marker='o', ls='none')\n",
    "\n",
    "grid_x = np.linspace(-5, 5, 128)\n",
    "\n",
    "for p in prior_samples[mask][:128]:\n",
    "    full_sample = make_full_sample(p, x, y, C, mu, L)\n",
    "    plt.plot(grid_x, eval_model(*full_sample, x=grid_x),\n",
    "             marker='', alpha=0.1, color='tab:orange')"
   ]
  },
  {
   "cell_type": "code",
   "execution_count": null,
   "metadata": {},
   "outputs": [],
   "source": []
  },
  {
   "cell_type": "code",
   "execution_count": null,
   "metadata": {},
   "outputs": [],
   "source": []
  }
 ],
 "metadata": {
  "kernelspec": {
   "display_name": "Python [conda env:root] *",
   "language": "python",
   "name": "conda-root-py"
  },
  "language_info": {
   "codemirror_mode": {
    "name": "ipython",
    "version": 3
   },
   "file_extension": ".py",
   "mimetype": "text/x-python",
   "name": "python",
   "nbconvert_exporter": "python",
   "pygments_lexer": "ipython3",
   "version": "3.7.3"
  }
 },
 "nbformat": 4,
 "nbformat_minor": 2
}
