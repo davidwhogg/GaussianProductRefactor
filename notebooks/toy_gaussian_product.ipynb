{
 "cells": [
  {
   "cell_type": "markdown",
   "metadata": {
    "colab_type": "text",
    "id": "view-in-github"
   },
   "source": [
    "<a href=\"https://colab.research.google.com/github/davidwhogg/GaussianProductRefactor/blob/master/notebooks/toy_gaussian_product.ipynb\" target=\"_parent\"><img src=\"https://colab.research.google.com/assets/colab-badge.svg\" alt=\"Open In Colab\"/></a>"
   ]
  },
  {
   "cell_type": "markdown",
   "metadata": {
    "colab_type": "text",
    "id": "Kl2lt1e-KNin"
   },
   "source": [
    "# One-dimensional Gaussian products and refactoring\n",
    "A notebook to \"build intuition\".\n",
    "- **David W. Hogg** (NYU) (MPIA) (Flatiron)"
   ]
  },
  {
   "cell_type": "code",
   "execution_count": null,
   "metadata": {
    "colab": {},
    "colab_type": "code",
    "id": "s-S2vQnrImNJ"
   },
   "outputs": [],
   "source": [
    "import numpy as np\n",
    "import pylab as plt\n",
    "%matplotlib inline"
   ]
  },
  {
   "cell_type": "code",
   "execution_count": null,
   "metadata": {
    "colab": {},
    "colab_type": "code",
    "id": "kmeLp8UJKx3z"
   },
   "outputs": [],
   "source": [
    "# define variables in one-d\n",
    "y = 4.\n",
    "M = 1.\n",
    "mu = 0.\n",
    "C = 3.\n",
    "Lambda = 16."
   ]
  },
  {
   "cell_type": "code",
   "execution_count": null,
   "metadata": {
    "colab": {},
    "colab_type": "code",
    "id": "rh8NmLzBOKXe"
   },
   "outputs": [],
   "source": [
    "# execute the one-d solution\n",
    "A = 1. / (1. / Lambda + M ** 2 / C)\n",
    "a = A * (mu / Lambda + M * y / C)\n",
    "B = C + M ** 2 * Lambda\n",
    "b = M * mu"
   ]
  },
  {
   "cell_type": "code",
   "execution_count": null,
   "metadata": {
    "colab": {},
    "colab_type": "code",
    "id": "H0QXgcFYOfWw"
   },
   "outputs": [],
   "source": [
    "# Gaussian function\n",
    "def N(x, m, V):\n",
    "  return 1. / np.sqrt(2 * np.pi * V) * np.exp(-0.5 * (x - m) ** 2 / V)"
   ]
  },
  {
   "cell_type": "code",
   "execution_count": null,
   "metadata": {
    "colab": {},
    "colab_type": "code",
    "id": "AV4JpA6ozuHq"
   },
   "outputs": [],
   "source": [
    "thetas = np.linspace(-10., 10., 1024)"
   ]
  },
  {
   "cell_type": "code",
   "execution_count": null,
   "metadata": {
    "colab": {},
    "colab_type": "code",
    "id": "ToF6Mp0PPLHn"
   },
   "outputs": [],
   "source": [
    "plt.plot(thetas, N(thetas, a, A), \"k-\", alpha=0.25, lw=2.0, label=\"posterior N(theta|a,A)\")\n",
    "plt.plot(thetas, 0. * thetas + N(y, b, B), \"k-\", alpha=0.75, lw=0.5, label=\"marginalized likelihood N(y|b,B)\")\n",
    "plt.plot(thetas, N(y, b, B) * N(thetas, a, A), \"k-\", lw=2., label=\"product\")\n",
    "foo = plt.ylim()\n",
    "plt.legend(loc=\"upper left\")\n",
    "plt.xlabel(\"theta\")"
   ]
  },
  {
   "cell_type": "code",
   "execution_count": null,
   "metadata": {
    "colab": {},
    "colab_type": "code",
    "id": "7ntSHOxZO34G"
   },
   "outputs": [],
   "source": [
    "plt.plot(thetas, N(y, M * thetas, C), \"k-\", alpha=0.25, lw=2.0, label=r\"likelihood\")\n",
    "plt.plot(thetas, N(thetas, mu, Lambda), \"k-\", alpha=0.75, lw=0.5, label=r\"prior pdf\")\n",
    "plt.plot(thetas, N(y, M * thetas, C) * N(thetas, mu, Lambda), \"k-\", lw=2., label=\"product likelihood x prior\")\n",
    "plt.plot(thetas, N(thetas, a, A), \"k--\", alpha=0.5, label=\"posterior pdf\")\n",
    "plt.ylim(foo)\n",
    "plt.legend(loc=\"upper left\")\n",
    "plt.xlabel(\"theta\")\n",
    "plt.savefig(\"./oned.pdf\")"
   ]
  },
  {
   "cell_type": "code",
   "execution_count": null,
   "metadata": {
    "colab": {},
    "colab_type": "code",
    "id": "kykdJFhDQKVj"
   },
   "outputs": [],
   "source": [
    "plt.plot(thetas, N(thetas, a, A) * N(y, b, B) - N(y, M * thetas, C) * N(thetas, mu, Lambda), \"k-\", lw=2., label=\"residual\")\n",
    "plt.ylim(foo)\n",
    "plt.legend(loc=\"upper left\")\n",
    "plt.xlabel(\"theta\")"
   ]
  },
  {
   "cell_type": "code",
   "execution_count": null,
   "metadata": {
    "colab": {},
    "colab_type": "code",
    "id": "ZUOAWqj8zYTL"
   },
   "outputs": [],
   "source": []
  }
 ],
 "metadata": {
  "colab": {
   "authorship_tag": "ABX9TyO7zgR5/U6tlQk7oTOnNTEa",
   "include_colab_link": true,
   "name": "toy_gaussian_product.ipynb",
   "provenance": []
  },
  "kernelspec": {
   "display_name": "Python 3",
   "language": "python",
   "name": "python3"
  },
  "language_info": {
   "codemirror_mode": {
    "name": "ipython",
    "version": 3
   },
   "file_extension": ".py",
   "mimetype": "text/x-python",
   "name": "python",
   "nbconvert_exporter": "python",
   "pygments_lexer": "ipython3",
   "version": "3.7.4"
  }
 },
 "nbformat": 4,
 "nbformat_minor": 1
}
