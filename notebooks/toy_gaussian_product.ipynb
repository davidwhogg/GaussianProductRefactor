{
  "nbformat": 4,
  "nbformat_minor": 0,
  "metadata": {
    "colab": {
      "name": "toy_gaussian_product.ipynb",
      "provenance": [],
      "authorship_tag": "ABX9TyNKSyMPF/DrmlqyG1U35ets",
      "include_colab_link": true
    },
    "kernelspec": {
      "name": "python3",
      "display_name": "Python 3"
    }
  },
  "cells": [
    {
      "cell_type": "markdown",
      "metadata": {
        "id": "view-in-github",
        "colab_type": "text"
      },
      "source": [
        "<a href=\"https://colab.research.google.com/github/davidwhogg/GaussianProductRefactor/blob/master/notebooks/toy_gaussian_product.ipynb\" target=\"_parent\"><img src=\"https://colab.research.google.com/assets/colab-badge.svg\" alt=\"Open In Colab\"/></a>"
      ]
    },
    {
      "cell_type": "markdown",
      "metadata": {
        "id": "Kl2lt1e-KNin",
        "colab_type": "text"
      },
      "source": [
        "# One-dimensional Gaussian products and refactoring\n",
        "A notebook to \"build intuition\".\n",
        "- **David W. Hogg** (NYU) (MPIA) (Flatiron)"
      ]
    },
    {
      "cell_type": "code",
      "metadata": {
        "id": "s-S2vQnrImNJ",
        "colab_type": "code",
        "colab": {}
      },
      "source": [
        "import numpy as np\n",
        "import pylab as plt\n",
        "%matplotlib inline"
      ],
      "execution_count": 0,
      "outputs": []
    },
    {
      "cell_type": "code",
      "metadata": {
        "id": "kmeLp8UJKx3z",
        "colab_type": "code",
        "colab": {}
      },
      "source": [
        "# define variables in one-d\n",
        "y = 8.\n",
        "M = 2.\n",
        "mu = 0.\n",
        "C = 4.\n",
        "Lambda = 8."
      ],
      "execution_count": 0,
      "outputs": []
    },
    {
      "cell_type": "code",
      "metadata": {
        "id": "rh8NmLzBOKXe",
        "colab_type": "code",
        "colab": {}
      },
      "source": [
        "# execute the one-d solution\n",
        "A = 1. / (1. / Lambda + M ** 2 / C)\n",
        "a = A * (mu / Lambda + M * y / C)\n",
        "B = C + M ** 2 * Lambda\n",
        "b = M * mu"
      ],
      "execution_count": 0,
      "outputs": []
    },
    {
      "cell_type": "code",
      "metadata": {
        "id": "H0QXgcFYOfWw",
        "colab_type": "code",
        "colab": {}
      },
      "source": [
        "# Gaussian function\n",
        "def N(x, m, V):\n",
        "  return 1. / np.sqrt(2 * np.pi * V) * np.exp(-0.5 * (x - m) ** 2 / V)"
      ],
      "execution_count": 0,
      "outputs": []
    },
    {
      "cell_type": "code",
      "metadata": {
        "id": "7ntSHOxZO34G",
        "colab_type": "code",
        "colab": {}
      },
      "source": [
        "thetas = np.linspace(-10., 10., 1024)\n",
        "plt.plot(thetas, N(y, M * thetas, C), \"k-\", alpha=0.25, lw=2.0, label=r\"likelihood N(y|M*theta,C)\")\n",
        "plt.plot(thetas, N(thetas, mu, Lambda), \"k-\", alpha=0.75, lw=0.5, label=r\"prior N(theta|mu,Lambda)\")\n",
        "plt.plot(thetas, N(y, M * thetas, C) * N(thetas, mu, Lambda), \"k-\", lw=2., label=\"product\")\n",
        "plt.legend(loc=\"upper left\")\n",
        "plt.xlabel(\"theta\")"
      ],
      "execution_count": 0,
      "outputs": []
    },
    {
      "cell_type": "code",
      "metadata": {
        "id": "ToF6Mp0PPLHn",
        "colab_type": "code",
        "colab": {}
      },
      "source": [
        "plt.plot(thetas, N(thetas, a, A), \"k-\", alpha=0.25, lw=2.0, label=\"posterior N(theta|a,A)\")\n",
        "plt.plot(thetas, 0. * thetas + N(y, b, B), \"k-\", alpha=0.75, lw=0.5, label=\"marginalized likelihood N(y|b,B)\")\n",
        "plt.plot(thetas, N(y, M * thetas, C) * N(thetas, mu, Lambda), \"k-\", lw=2., label=\"product\")\n",
        "plt.legend(loc=\"upper left\")\n",
        "plt.xlabel(\"theta\")"
      ],
      "execution_count": 0,
      "outputs": []
    },
    {
      "cell_type": "code",
      "metadata": {
        "id": "kykdJFhDQKVj",
        "colab_type": "code",
        "colab": {}
      },
      "source": [
        ""
      ],
      "execution_count": 0,
      "outputs": []
    }
  ]
}